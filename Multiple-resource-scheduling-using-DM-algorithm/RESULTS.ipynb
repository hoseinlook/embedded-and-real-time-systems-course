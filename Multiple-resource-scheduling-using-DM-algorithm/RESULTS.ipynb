{
 "cells": [
  {
   "cell_type": "code",
   "execution_count": 8,
   "id": "2492675b",
   "metadata": {},
   "outputs": [],
   "source": [
    "from taskset import load_file_and_create_tasks , NPPScheduler , PIPScheduler , HLPScheduler,TaskSet"
   ]
  },
  {
   "cell_type": "code",
   "execution_count": 2,
   "id": "9b944e3e",
   "metadata": {},
   "outputs": [
    {
     "name": "stdout",
     "output_type": "stream",
     "text": [
      "Task Set:\n",
      "task 1: (Φ,T,C,D,∆) = (2.0, 10.0, 5.0, 7.0, [[0, 5]])\n",
      "task 2: (Φ,T,C,D,∆) = (0.0, 10.0, 5.0, 10.0, [[0, 5]])\n",
      "\n",
      "Jobs:\n",
      "[1:1] released at 2.0 -> deadline at 9.0\n",
      "[1:2] released at 12.0 -> deadline at 19.0\n",
      "[1:3] released at 22.0 -> deadline at 29.0\n",
      "[1:4] released at 32.0 -> deadline at 39.0\n",
      "[1:5] released at 42.0 -> deadline at 49.0\n",
      "[1:6] released at 52.0 -> deadline at 59.0\n",
      "[1:7] released at 62.0 -> deadline at 69.0\n",
      "[1:8] released at 72.0 -> deadline at 79.0\n",
      "[1:9] released at 82.0 -> deadline at 89.0\n",
      "[1:10] released at 92.0 -> deadline at 99.0\n",
      "[2:1] released at 0.0 -> deadline at 10.0\n",
      "[2:2] released at 10.0 -> deadline at 20.0\n",
      "[2:3] released at 20.0 -> deadline at 30.0\n",
      "[2:4] released at 30.0 -> deadline at 40.0\n",
      "[2:5] released at 40.0 -> deadline at 50.0\n",
      "[2:6] released at 50.0 -> deadline at 60.0\n",
      "[2:7] released at 60.0 -> deadline at 70.0\n",
      "[2:8] released at 70.0 -> deadline at 80.0\n",
      "[2:9] released at 80.0 -> deadline at 90.0\n",
      "[2:10] released at 90.0 -> deadline at 100.0\n"
     ]
    }
   ],
   "source": [
    "npp_taskset = load_file_and_create_tasks(\"./taskset.json\")"
   ]
  },
  {
   "cell_type": "code",
   "execution_count": 3,
   "id": "e6910529",
   "metadata": {},
   "outputs": [
    {
     "name": "stdout",
     "output_type": "stream",
     "text": [
      "Validating the schedule\n",
      "no WCETs are missed \n",
      "This schedule is feasible\n"
     ]
    },
    {
     "data": {
      "image/png": "[encoded data removed]",
      "text/plain": [
       "<Figure size 432x288 with 1 Axes>"
      ]
     },
     "metadata": {
      "needs_background": "light"
     },
     "output_type": "display_data"
    }
   ],
   "source": [
    "NPPScheduler(npp_taskset).run()"
   ]
  },
  {
   "cell_type": "code",
   "execution_count": 4,
   "id": "9bf000d2",
   "metadata": {},
   "outputs": [
    {
     "name": "stdout",
     "output_type": "stream",
     "text": [
      "Task Set:\n",
      "task 1: (Φ,T,C,D,∆) = (3.0, 20.0, 5.0, 12.0, [[0, 5]])\n",
      "task 2: (Φ,T,C,D,∆) = (5.0, 20.0, 5.0, 15.0, [[0, 2], [1, 3]])\n",
      "task 3: (Φ,T,C,D,∆) = (0.0, 20.0, 9.0, 20.0, [[0, 2], [1, 5], [0, 2]])\n",
      "\n",
      "Jobs:\n",
      "[1:1] released at 3.0 -> deadline at 15.0\n",
      "[1:2] released at 23.0 -> deadline at 35.0\n",
      "[1:3] released at 43.0 -> deadline at 55.0\n",
      "[1:4] released at 63.0 -> deadline at 75.0\n",
      "[1:5] released at 83.0 -> deadline at 95.0\n",
      "[2:1] released at 5.0 -> deadline at 20.0\n",
      "[2:2] released at 25.0 -> deadline at 40.0\n",
      "[2:3] released at 45.0 -> deadline at 60.0\n",
      "[2:4] released at 65.0 -> deadline at 80.0\n",
      "[2:5] released at 85.0 -> deadline at 100.0\n",
      "[3:1] released at 0.0 -> deadline at 20.0\n",
      "[3:2] released at 20.0 -> deadline at 40.0\n",
      "[3:3] released at 40.0 -> deadline at 60.0\n",
      "[3:4] released at 60.0 -> deadline at 80.0\n",
      "[3:5] released at 80.0 -> deadline at 100.0\n"
     ]
    }
   ],
   "source": [
    "hlp_taskset = load_file_and_create_tasks(\"./taskset2.json\")"
   ]
  },
  {
   "cell_type": "code",
   "execution_count": 5,
   "id": "b3560fb0",
   "metadata": {},
   "outputs": [
    {
     "name": "stdout",
     "output_type": "stream",
     "text": [
      "Validating the schedule\n",
      "no WCETs are missed \n",
      "This schedule is feasible\n"
     ]
    },
    {
     "data": {
      "image/png": "[encoded data removed]",
      "text/plain": [
       "<Figure size 432x288 with 1 Axes>"
      ]
     },
     "metadata": {
      "needs_background": "light"
     },
     "output_type": "display_data"
    }
   ],
   "source": [
    "HLPScheduler(hlp_taskset).run()"
   ]
  },
  {
   "cell_type": "code",
   "execution_count": 6,
   "id": "ca8f728d",
   "metadata": {},
   "outputs": [
    {
     "name": "stdout",
     "output_type": "stream",
     "text": [
      "Task Set:\n",
      "task 1: (Φ,T,C,D,∆) = (3.0, 40.0, 12.0, 12.0, [[0, 1], [2, 2], [0, 1], [1, 2], [0, 1], [3, 2], [0, 1], [4, 2]])\n",
      "task 2: (Φ,T,C,D,∆) = (5.0, 40.0, 7.0, 15.0, [[0, 1], [2, 2], [0, 1], [3, 2], [0, 1]])\n",
      "task 3: (Φ,T,C,D,∆) = (0.0, 40.0, 11.0, 20.0, [[0, 2], [1, 4], [0, 1], [4, 3], [0, 1]])\n",
      "\n",
      "Jobs:\n",
      "[1:1] released at 3.0 -> deadline at 15.0\n",
      "[1:2] released at 43.0 -> deadline at 55.0\n",
      "[1:3] released at 83.0 -> deadline at 95.0\n",
      "[2:1] released at 5.0 -> deadline at 20.0\n",
      "[2:2] released at 45.0 -> deadline at 60.0\n",
      "[2:3] released at 85.0 -> deadline at 100.0\n",
      "[3:1] released at 0.0 -> deadline at 20.0\n",
      "[3:2] released at 40.0 -> deadline at 60.0\n",
      "[3:3] released at 80.0 -> deadline at 100.0\n"
     ]
    }
   ],
   "source": [
    "pip_taskset = load_file_and_create_tasks(\"./taskset3.json\")"
   ]
  },
  {
   "cell_type": "code",
   "execution_count": 7,
   "id": "53db08de",
   "metadata": {},
   "outputs": [
    {
     "name": "stdout",
     "output_type": "stream",
     "text": [
      "Validating the schedule\n",
      "This scheduler is not feasible\n"
     ]
    },
    {
     "data": {
      "image/png": "[encoded data removed]",
      "text/plain": [
       "<Figure size 432x288 with 1 Axes>"
      ]
     },
     "metadata": {
      "needs_background": "light"
     },
     "output_type": "display_data"
    }
   ],
   "source": [
    "PIPScheduler(pip_taskset).run()"
   ]
  },
  {
   "cell_type": "markdown",
   "id": "f3088b24",
   "metadata": {},
   "source": [
    "# Questions"
   ]
  },
  {
   "cell_type": "markdown",
   "id": "28cafcfd",
   "metadata": {},
   "source": [
    "## 1"
   ]
  },
  {
   "cell_type": "markdown",
   "id": "81cb5b54",
   "metadata": {},
   "source": [
    "تاثیر افست  بر روی پروتکل های همگام سازی :\n",
    "اگر همه افست ها بکسان باشد عملا نیازی به هیچ پروتکلی نیست زیرا با الویتترین تسک ابتدا اجرا میشود\n",
    "همان مثال قبلی اگر افست نباشد:"
   ]
  },
  {
   "cell_type": "code",
   "execution_count": 10,
   "id": "92c73616",
   "metadata": {},
   "outputs": [
    {
     "name": "stdout",
     "output_type": "stream",
     "text": [
      "Task Set:\n",
      "task 1: (Φ,T,C,D,∆) = (0.0, 40.0, 12.0, 12.0, [[0, 1], [2, 2], [0, 1], [1, 2], [0, 1], [3, 2], [0, 1], [4, 2]])\n",
      "task 2: (Φ,T,C,D,∆) = (0.0, 40.0, 7.0, 15.0, [[0, 1], [2, 2], [0, 1], [3, 2], [0, 1]])\n",
      "task 3: (Φ,T,C,D,∆) = (0.0, 40.0, 11.0, 20.0, [[0, 2], [1, 4], [0, 1], [4, 3], [0, 1]])\n",
      "\n",
      "Jobs:\n",
      "[1:1] released at 0.0 -> deadline at 12.0\n",
      "[1:2] released at 40.0 -> deadline at 52.0\n",
      "[1:3] released at 80.0 -> deadline at 92.0\n",
      "[2:1] released at 0.0 -> deadline at 15.0\n",
      "[2:2] released at 40.0 -> deadline at 55.0\n",
      "[2:3] released at 80.0 -> deadline at 95.0\n",
      "[3:1] released at 0.0 -> deadline at 20.0\n",
      "[3:2] released at 40.0 -> deadline at 60.0\n",
      "[3:3] released at 80.0 -> deadline at 100.0\n",
      "Validating the schedule\n",
      "This scheduler is not feasible\n"
     ]
    },
    {
     "data": {
      "image/png": "[encoded data removed]",
      "text/plain": [
       "<Figure size 432x288 with 1 Axes>"
      ]
     },
     "metadata": {
      "needs_background": "light"
     },
     "output_type": "display_data"
    }
   ],
   "source": [
    "data = {\n",
    "    \"startTime\": 0,\n",
    "    \"endTime\": 100,\n",
    "    \"taskset\": [\n",
    "        {\n",
    "            \"taskId\": 1,\n",
    "            \"period\": 40,\n",
    "            \"wcet\": 12,\n",
    "            \"deadline\": 12,\n",
    "            \"offset\": 0,\n",
    "            \"sections\": [[0,1],[2,2],[0,1],[1,2],[0,1],[3,2],[0,1],[4,2]]\n",
    "        },\n",
    "        {\n",
    "            \"taskId\": 2,\n",
    "            \"period\": 40,\n",
    "            \"wcet\": 7,\n",
    "            \"deadline\": 15,\n",
    "            \"offset\":0 ,\n",
    "            \"sections\": [[0,1],[2,2],[0,1],[3,2],[0,1]]\n",
    "        },\n",
    "        {\n",
    "            \"taskId\": 3,\n",
    "            \"period\": 40,\n",
    "            \"wcet\": 11,\n",
    "            \"deadline\": 20,\n",
    "            \"offset\":0 ,\n",
    "            \"sections\": [[0,2],[1,4],[0,1],[4,3],[0,1]]\n",
    "        }\n",
    "    ]\n",
    "}\n",
    "task_set = TaskSet(data)\n",
    "task_set.print_tasks()\n",
    "task_set.print_jobs()\n",
    "PIPScheduler(task_set).run()\n"
   ]
  },
  {
   "cell_type": "markdown",
   "id": "a7acc3bf",
   "metadata": {},
   "source": [
    "## 2"
   ]
  },
  {
   "cell_type": "code",
   "execution_count": null,
   "id": "f069ac49",
   "metadata": {},
   "outputs": [],
   "source": []
  }
 ],
 "metadata": {
  "kernelspec": {
   "display_name": "Python 3 (ipykernel)",
   "language": "python",
   "name": "python3"
  },
  "language_info": {
   "codemirror_mode": {
    "name": "ipython",
    "version": 3
   },
   "file_extension": ".py",
   "mimetype": "text/x-python",
   "name": "python",
   "nbconvert_exporter": "python",
   "pygments_lexer": "ipython3",
   "version": "3.8.9"
  }
 },
 "nbformat": 4,
 "nbformat_minor": 5
}
